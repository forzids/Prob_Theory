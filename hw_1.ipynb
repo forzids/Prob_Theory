{
 "cells": [
  {
   "cell_type": "code",
   "execution_count": 1,
   "metadata": {},
   "outputs": [],
   "source": [
    "from math import factorial"
   ]
  },
  {
   "cell_type": "code",
   "execution_count": 3,
   "metadata": {},
   "outputs": [
    {
     "name": "stdout",
     "output_type": "stream",
     "text": [
      "715\n"
     ]
    }
   ],
   "source": [
    "#Задание 1_а\n",
    "\n",
    "def combinations(n, k):\n",
    "    return int(factorial(n) / (factorial(k) * factorial(n - k)))\n",
    "\n",
    "#Получение только одной масти\n",
    "\n",
    "m = combinations(13, 4)\n",
    "print(m)"
   ]
  },
  {
   "cell_type": "code",
   "execution_count": 4,
   "metadata": {},
   "outputs": [
    {
     "name": "stdout",
     "output_type": "stream",
     "text": [
      "270725\n"
     ]
    }
   ],
   "source": [
    "#Получение 4 карт\n",
    "\n",
    "n = combinations(52, 4)\n",
    "print(n)"
   ]
  },
  {
   "cell_type": "code",
   "execution_count": 7,
   "metadata": {},
   "outputs": [
    {
     "name": "stdout",
     "output_type": "stream",
     "text": [
      "0.0026410564225690276\n",
      "0.3%\n"
     ]
    }
   ],
   "source": [
    "#Вычисление вероятности\n",
    "\n",
    "P = m / n\n",
    "print(P)\n",
    "print(\"{0:.1f}%\".format(P * 100))"
   ]
  },
  {
   "cell_type": "code",
   "execution_count": 8,
   "metadata": {},
   "outputs": [
    {
     "name": "stdout",
     "output_type": "stream",
     "text": [
      "270725\n"
     ]
    }
   ],
   "source": [
    "#Задание 1_б\n",
    "\n",
    "#выбрать 4 карты\n",
    "A = combinations(52,4) \n",
    "print(A)"
   ]
  },
  {
   "cell_type": "code",
   "execution_count": 9,
   "metadata": {},
   "outputs": [
    {
     "name": "stdout",
     "output_type": "stream",
     "text": [
      "0.25555083571890297\n"
     ]
    }
   ],
   "source": [
    "#Выбрать 1 туз и 3 не туза\n",
    "B1 = (combinations(4,1) * combinations(48,3)) / A\n",
    "print(B1)"
   ]
  },
  {
   "cell_type": "code",
   "execution_count": 10,
   "metadata": {},
   "outputs": [
    {
     "name": "stdout",
     "output_type": "stream",
     "text": [
      "0.0249995382768492\n"
     ]
    }
   ],
   "source": [
    "#Выбрать 2 туза и 2 не туза\n",
    "B2 = (combinations(4,2)*combinations(48,2)) / A\n",
    "print(B2)"
   ]
  },
  {
   "cell_type": "code",
   "execution_count": 11,
   "metadata": {},
   "outputs": [
    {
     "name": "stdout",
     "output_type": "stream",
     "text": [
      "0.0007092067596269276\n"
     ]
    }
   ],
   "source": [
    "#Выбрать 3 туза и 1 не туз\n",
    "B3 = (combinations(4,3)*combinations(48,1)) / A\n",
    "print(B3)"
   ]
  },
  {
   "cell_type": "code",
   "execution_count": 12,
   "metadata": {},
   "outputs": [
    {
     "name": "stdout",
     "output_type": "stream",
     "text": [
      "3.6937852063902484e-06\n"
     ]
    }
   ],
   "source": [
    "#Выбрать 4 туза\n",
    "B4 = (combinations(4,4)) / A \n",
    "print(B4)"
   ]
  },
  {
   "cell_type": "code",
   "execution_count": 13,
   "metadata": {},
   "outputs": [
    {
     "name": "stdout",
     "output_type": "stream",
     "text": [
      "0.2812632745405855\n",
      "28.1%\n"
     ]
    }
   ],
   "source": [
    "#Вероятность что среди 4-х карт окажется хотя бы один туз \n",
    "print(B1 + B2 + B3 + B4)\n",
    "print(\"{0:.1f}%\".format((B1 + B2 + B3 + B4)*100))"
   ]
  },
  {
   "cell_type": "code",
   "execution_count": 16,
   "metadata": {},
   "outputs": [
    {
     "name": "stdout",
     "output_type": "stream",
     "text": [
      "0.001388888888888889\n",
      "0.1%\n"
     ]
    }
   ],
   "source": [
    "#Задание 2\n",
    "\n",
    "def arrangements(n, k):\n",
    "    return int(factorial(n) / factorial(n - k))\n",
    "    \n",
    "# Ввел код с 1 попытки\n",
    "a = arrangements(10, 3)\n",
    "P = 1/a\n",
    "print(P)\n",
    "print(\"{0:.1f}%\".format(P*100))"
   ]
  },
  {
   "cell_type": "code",
   "execution_count": 17,
   "metadata": {},
   "outputs": [
    {
     "name": "stdout",
     "output_type": "stream",
     "text": [
      "455\n"
     ]
    }
   ],
   "source": [
    "#Задание 3\n",
    "\n",
    "#Вытащить 3 детали\n",
    "A = combinations(15,3) \n",
    "print(A)"
   ]
  },
  {
   "cell_type": "code",
   "execution_count": 18,
   "metadata": {},
   "outputs": [
    {
     "name": "stdout",
     "output_type": "stream",
     "text": [
      "84\n"
     ]
    }
   ],
   "source": [
    "#Вытащить 3 окрашенные детали\n",
    "B = combinations(9,3) \n",
    "print(B)"
   ]
  },
  {
   "cell_type": "code",
   "execution_count": 19,
   "metadata": {},
   "outputs": [
    {
     "name": "stdout",
     "output_type": "stream",
     "text": [
      "0.18461538461538463\n",
      "18.5%\n"
     ]
    }
   ],
   "source": [
    "#вероятность того, что все извлеченные детали окрашены\n",
    "P = B / A \n",
    "print(P)\n",
    "print(\"{0:.1f}%\".format(P*100))"
   ]
  },
  {
   "cell_type": "code",
   "execution_count": 20,
   "metadata": {},
   "outputs": [
    {
     "name": "stdout",
     "output_type": "stream",
     "text": [
      "4950\n"
     ]
    }
   ],
   "source": [
    "#Задание 4\n",
    "\n",
    "#Вытащить 2 билета\n",
    "A = combinations(100,2) \n",
    "print(A)"
   ]
  },
  {
   "cell_type": "code",
   "execution_count": 21,
   "metadata": {},
   "outputs": [
    {
     "name": "stdout",
     "output_type": "stream",
     "text": [
      "1\n"
     ]
    }
   ],
   "source": [
    "#Вытащить 2 выигрышных билета\n",
    "B = combinations(2,2) \n",
    "print(B)"
   ]
  },
  {
   "cell_type": "code",
   "execution_count": 24,
   "metadata": {},
   "outputs": [
    {
     "name": "stdout",
     "output_type": "stream",
     "text": [
      "0.00020202020202020202\n",
      "0.020%\n"
     ]
    }
   ],
   "source": [
    "#вероятность того, что 2 приобретенных билета окажутся выигрышными\n",
    "P = B / A \n",
    "print(P)\n",
    "print(\"{0:.3f}%\".format(P*100))"
   ]
  },
  {
   "cell_type": "code",
   "execution_count": null,
   "metadata": {},
   "outputs": [],
   "source": []
  }
 ],
 "metadata": {
  "kernelspec": {
   "display_name": "Python 3",
   "language": "python",
   "name": "python3"
  },
  "language_info": {
   "codemirror_mode": {
    "name": "ipython",
    "version": 3
   },
   "file_extension": ".py",
   "mimetype": "text/x-python",
   "name": "python",
   "nbconvert_exporter": "python",
   "pygments_lexer": "ipython3",
   "version": "3.8.5"
  }
 },
 "nbformat": 4,
 "nbformat_minor": 4
}

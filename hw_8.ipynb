{
 "cells": [
  {
   "cell_type": "code",
   "execution_count": 1,
   "metadata": {},
   "outputs": [],
   "source": [
    "import numpy as np\n",
    "from scipy import stats"
   ]
  },
  {
   "cell_type": "code",
   "execution_count": 4,
   "metadata": {},
   "outputs": [
    {
     "name": "stdout",
     "output_type": "stream",
     "text": [
      "Вариант1:\n",
      "Fn = 5.500, p_value = 0.010\n",
      "p_value < alpha Различие статистически значимое => вид спорта влияет на рост\n",
      "\n",
      "Вариант2:\n",
      "Fn = 5.500053450812599 Ft = 3.34\n",
      "Fn > Ft Различие статистически значимое => вид спорта влияет на рост\n"
     ]
    }
   ],
   "source": [
    "#Задание 1\n",
    "\n",
    "#Вариант 1 используя stats\n",
    "F = np.array([173, 175, 180, 178, 177, 185, 183, 182])\n",
    "H = np.array([177, 179, 180, 188, 177, 172, 171, 184, 180])\n",
    "W = np.array([172, 173, 169, 177, 166, 180, 178, 177, 172, 166, 170])\n",
    "Fn, p = stats.f_oneway(F,H,W)\n",
    "print('Вариант1:')\n",
    "print('Fn = {:5.3f}, p_value = {:5.3f}'.format(Fn, p))\n",
    "alpha = 0.05\n",
    "if p < alpha:\n",
    "    print('p_value < alpha Различие статистически значимое => вид спорта влияет на рост')\n",
    "else: print('Различие статистически не значимое => нет влияния вида спорта на рост')\n",
    "\n",
    "\n",
    "\n",
    "#Вариант 2 используя прямой подсчет\n",
    "n1 = len(F)\n",
    "n2 = len(H)\n",
    "n3 = len(W)\n",
    "n = n1 + n2 + n3\n",
    "k = 3\n",
    "\n",
    "y1 = sum(F)/n1\n",
    "y2 = sum(H)/n2\n",
    "y3 = sum(W)/n3\n",
    "Y = (sum(F) + sum(H) + sum(W))/n\n",
    "\n",
    "Sf = ((y1-Y)**2)*n1 + ((y2 - Y)**2)*n2 + ((y3 - Y)**2)*n3\n",
    "\n",
    "dev1 = np.array([])\n",
    "dev2 = np.array([])\n",
    "dev3 = np.array([])\n",
    "for i in F:\n",
    "    dev1 = np.append(dev1,((i - y1) ** 2))\n",
    "for i in H:\n",
    "    dev2 = np.append(dev2,((i - y2) ** 2))\n",
    "for i in W:\n",
    "    dev3 = np.append(dev3,((i - y3) ** 2))\n",
    "    \n",
    "Sost = sum(dev1) + sum(dev2) + sum(dev3)\n",
    "\n",
    "S = Sf + Sost\n",
    "\n",
    "Df = Sf/(k-1)\n",
    "Dost = Sost/(n-k)\n",
    "\n",
    "Fn = Df / Dost\n",
    "Ft = 3.34\n",
    "print()\n",
    "print('Вариант2:')\n",
    "print('Fn =', Fn, 'Ft =', Ft)\n",
    "\n",
    "if Fn > Ft:\n",
    "    print('Fn > Ft Различие статистически значимое => вид спорта влияет на рост')\n",
    "else: print('Fn < Ft Различие статистически не значимое => нет влияния вида спорта на рост')"
   ]
  },
  {
   "cell_type": "code",
   "execution_count": null,
   "metadata": {},
   "outputs": [],
   "source": []
  }
 ],
 "metadata": {
  "kernelspec": {
   "display_name": "Python 3",
   "language": "python",
   "name": "python3"
  },
  "language_info": {
   "codemirror_mode": {
    "name": "ipython",
    "version": 3
   },
   "file_extension": ".py",
   "mimetype": "text/x-python",
   "name": "python",
   "nbconvert_exporter": "python",
   "pygments_lexer": "ipython3",
   "version": "3.8.5"
  }
 },
 "nbformat": 4,
 "nbformat_minor": 4
}

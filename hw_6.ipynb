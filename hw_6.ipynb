{
 "cells": [
  {
   "cell_type": "code",
   "execution_count": 1,
   "metadata": {},
   "outputs": [],
   "source": [
    "import numpy as np\n",
    "import pandas as pd\n",
    "from math import sqrt"
   ]
  },
  {
   "cell_type": "code",
   "execution_count": 2,
   "metadata": {},
   "outputs": [
    {
     "name": "stdout",
     "output_type": "stream",
     "text": [
      "9157.839999999997\n",
      "[[ 3494.64  9157.84]\n",
      " [ 9157.84 30468.89]]\n",
      "0.7987410828665242\n",
      "0.8874900920739162\n"
     ]
    }
   ],
   "source": [
    "#Задание 1\n",
    "\n",
    "zp = np.array([35, 45, 190, 200, 40, 70, 54, 150, 120, 110])\n",
    "ks = np.array([401, 574, 874, 919, 459, 739, 653, 902, 746, 832])\n",
    "#ковариация с помощью элементарных действий\n",
    "cov = np.mean(zp*ks) - np.mean(zp)*np.mean(ks)\n",
    "print(cov)\n",
    "\n",
    "#ковариация с помощью функции cov из numpy\n",
    "cov1 = np.cov(zp,ks,ddof=0)\n",
    "print(cov1)\n",
    "\n",
    "#коэффициент корреляции Пирсона с помощью ковариации и среднеквадратичных отклонений двух признаков\n",
    "corr = cov/(np.std(zp, ddof=1) * np.std(ks, ddof=1))\n",
    "print(corr)\n",
    "\n",
    "#коэффициент корреляции Пирсона с использованием функций из библиотек numpy и pandas\n",
    "data = {'zp':[35, 45, 190, 200, 40, 70, 54, 150, 120, 110],'ks':[401, 574, 874, 919, 459, 739, 653, 902, 746, 832]}\n",
    "df = pd.DataFrame(data, columns = ['zp','ks'])\n",
    "corr_matrix = df.loc[:, ['zp', 'ks']].corr()\n",
    "print(corr_matrix.loc['zp', 'ks'])"
   ]
  },
  {
   "cell_type": "code",
   "execution_count": 3,
   "metadata": {},
   "outputs": [
    {
     "data": {
      "text/plain": [
       "[110.55660776308164, 125.64339223691834]"
      ]
     },
     "execution_count": 3,
     "metadata": {},
     "output_type": "execute_result"
    }
   ],
   "source": [
    "#Задание 2\n",
    "\n",
    "a = [131, 125, 115, 122, 131, 115, 107, 99, 125, 111]\n",
    "x = np.mean(a)\n",
    "std = np.std(a, ddof=1)\n",
    "n = len(a)\n",
    "t = 2.262\n",
    "se = std / sqrt(n)\n",
    "a = x - (t * se)\n",
    "b = x + (t * se)\n",
    "[a , b]"
   ]
  },
  {
   "cell_type": "code",
   "execution_count": 4,
   "metadata": {},
   "outputs": [
    {
     "data": {
      "text/plain": [
       "[172.31398912064722, 176.08601087935276]"
      ]
     },
     "execution_count": 4,
     "metadata": {},
     "output_type": "execute_result"
    }
   ],
   "source": [
    "#Задание 3\n",
    "\n",
    "z = 1.96\n",
    "x = 174.2\n",
    "d = 25\n",
    "std = sqrt(d)\n",
    "n = 27\n",
    "\n",
    "se = std / sqrt(n)\n",
    "a = x - (z * se)\n",
    "b = x + (z * se)\n",
    "\n",
    "[a , b]"
   ]
  },
  {
   "cell_type": "code",
   "execution_count": null,
   "metadata": {},
   "outputs": [],
   "source": []
  }
 ],
 "metadata": {
  "kernelspec": {
   "display_name": "Python 3",
   "language": "python",
   "name": "python3"
  },
  "language_info": {
   "codemirror_mode": {
    "name": "ipython",
    "version": 3
   },
   "file_extension": ".py",
   "mimetype": "text/x-python",
   "name": "python",
   "nbconvert_exporter": "python",
   "pygments_lexer": "ipython3",
   "version": "3.8.5"
  }
 },
 "nbformat": 4,
 "nbformat_minor": 4
}

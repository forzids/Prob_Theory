{
 "cells": [
  {
   "cell_type": "code",
   "execution_count": 3,
   "metadata": {},
   "outputs": [],
   "source": [
    "import numpy as np\n",
    "import pandas as pd\n",
    "from math import factorial"
   ]
  },
  {
   "cell_type": "code",
   "execution_count": 2,
   "metadata": {},
   "outputs": [
    {
     "name": "stdout",
     "output_type": "stream",
     "text": [
      "65.3\n",
      "30.823854398825596\n",
      "950.11\n",
      "1000.1157894736842\n"
     ]
    }
   ],
   "source": [
    "#Задание 1\n",
    "sal = [100, 80, 75, 77, 89, 33, 45, 25, 65, 17, 30, 24, 57, 55, 70, 75, 65, 84, 90, 150]\n",
    "\n",
    "#Среднее арифметическое\n",
    "a = sum(sal)\n",
    "b = len(sal)\n",
    "av_sal = a / b\n",
    "print(av_sal)\n",
    "\n",
    "n = []\n",
    "for i in range(len(sal)):\n",
    "    v = (sal[i]-av_sal)**2\n",
    "    n.append(v)\n",
    "#Среднее квадратичное отклонение    \n",
    "    std_dev = np.sqrt(sum(n)/b) \n",
    "\n",
    "#Смещенная оценка дисперсии\n",
    "    bia_var = sum(n)/b\n",
    "\n",
    "#Несмещенная оценка дисперсии\n",
    "    unbia_var = sum(n)/(b - 1)\n",
    "print(std_dev)\n",
    "print(bia_var)\n",
    "print(unbia_var)"
   ]
  },
  {
   "cell_type": "code",
   "execution_count": 4,
   "metadata": {},
   "outputs": [
    {
     "name": "stdout",
     "output_type": "stream",
     "text": [
      "0.3059163059163059\n",
      "30.6%\n"
     ]
    }
   ],
   "source": [
    "#Задание 2\n",
    "\n",
    "def comb(n, k):\n",
    "    return int(factorial(n) / (factorial(k) * factorial(n - k)))\n",
    "\n",
    "#2 белых из 1 ящика, 1 белый из 2\n",
    "p1 = (comb(5, 2) / comb(8,2)) * ((comb(5,1) * comb(8,3)) / comb(12,4))\n",
    "\n",
    "#0 белых из 1 ящика, 3 белых из 2\n",
    "p2 = (comb(3,2) / comb(8,2)) * ((comb(5,3) * comb(8,1)) / comb(12,4))\n",
    "\n",
    "#1 белый из 1 ящика, 2 белых из 2\n",
    "p3 = ((comb(5,1) * comb(3,1)) / comb(8,2)) * ((comb(5,2) * comb(8,1)) / comb(12,4))\n",
    "\n",
    "p = p1 + p2 + p3\n",
    "print(p)\n",
    "print(\"{0:.1f}%\".format(p * 100))"
   ]
  },
  {
   "cell_type": "code",
   "execution_count": 5,
   "metadata": {},
   "outputs": [
    {
     "name": "stdout",
     "output_type": "stream",
     "text": [
      "0.072\n",
      "7.2%\n",
      "0.031999999999999994\n",
      "3.2%\n",
      "0.011999999999999993\n",
      "1.2%\n"
     ]
    }
   ],
   "source": [
    "#Задание 3\n",
    "\n",
    "#Вероятность что выстрел сделан первым спортсменом\n",
    "p1 = 0.9 * (1 - 0.8) * (1 - 0.6)\n",
    "print(p1)\n",
    "print(\"{0:.1f}%\".format(p1 * 100))\n",
    "#Вероятность что выстрел сделан вторым спортсменом\n",
    "p2 = (1 - 0.9) * 0.8 * (1 - 0.6)\n",
    "print(p2)\n",
    "print(\"{0:.1f}%\".format(p2 * 100))\n",
    "#Вероятность что выстрел сделан третьим спортсменом\n",
    "p3 = (1 - 0.9) * (1 - 0.8) * 0.6\n",
    "print(p3)\n",
    "print(\"{0:.1f}%\".format(p3 * 100))"
   ]
  },
  {
   "cell_type": "code",
   "execution_count": 6,
   "metadata": {},
   "outputs": [
    {
     "name": "stdout",
     "output_type": "stream",
     "text": [
      "0.24242424242424246\n",
      "24.2%\n",
      "0.21212121212121213\n",
      "21.2%\n",
      "0.5454545454545455\n",
      "54.5%\n"
     ]
    }
   ],
   "source": [
    "#Задание 4\n",
    "\n",
    "A = 1/4 * 0.8 + 1/4 * 0.7 + 1/2 * 0.9\n",
    "\n",
    "#4_a\n",
    "p1 = (1/4 * 0.8) / A\n",
    "print(p1)\n",
    "print(\"{0:.1f}%\".format(p1 * 100))\n",
    "\n",
    "#4_b\n",
    "p2 = (1/4 * 0.7) / A\n",
    "print(p2)\n",
    "print(\"{0:.1f}%\".format(p2 * 100))\n",
    "\n",
    "#4_c\n",
    "p3 = (1/2 * 0.9) / A\n",
    "print(p3)\n",
    "print(\"{0:.1f}%\".format(p3 * 100))"
   ]
  },
  {
   "cell_type": "code",
   "execution_count": null,
   "metadata": {},
   "outputs": [],
   "source": []
  }
 ],
 "metadata": {
  "kernelspec": {
   "display_name": "Python 3",
   "language": "python",
   "name": "python3"
  },
  "language_info": {
   "codemirror_mode": {
    "name": "ipython",
    "version": 3
   },
   "file_extension": ".py",
   "mimetype": "text/x-python",
   "name": "python",
   "nbconvert_exporter": "python",
   "pygments_lexer": "ipython3",
   "version": "3.8.5"
  }
 },
 "nbformat": 4,
 "nbformat_minor": 4
}

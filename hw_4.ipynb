{
 "cells": [
  {
   "cell_type": "code",
   "execution_count": 1,
   "metadata": {},
   "outputs": [],
   "source": [
    "from math import exp, sqrt"
   ]
  },
  {
   "cell_type": "code",
   "execution_count": 2,
   "metadata": {},
   "outputs": [
    {
     "name": "stdout",
     "output_type": "stream",
     "text": [
      "M(x) = 500.5\n",
      "D(x) = 29900.083333333332\n"
     ]
    }
   ],
   "source": [
    "#Задание 1\n",
    "\n",
    "a = 201\n",
    "b = 800\n",
    "\n",
    "M = (a + b) / 2\n",
    "D = ((b - a)**2) / 12\n",
    "\n",
    "print('M(x) =', M)\n",
    "print('D(x) =', D)"
   ]
  },
  {
   "cell_type": "code",
   "execution_count": 3,
   "metadata": {},
   "outputs": [
    {
     "name": "stdout",
     "output_type": "stream",
     "text": [
      "a1 = -1.0491933384829668\n",
      "a2 = 2.049193338482967\n"
     ]
    }
   ],
   "source": [
    "#Задание 2\n",
    "\n",
    "#D(x) = ((b - a)**2) / 12\n",
    "b = 0.5\n",
    "D = 0.2\n",
    "\n",
    "a1 = b - sqrt(12*D)\n",
    "a2 = b + sqrt(12*D)\n",
    "\n",
    "print('a1 =',a1)\n",
    "print('a2 =',a2)"
   ]
  },
  {
   "cell_type": "code",
   "execution_count": 4,
   "metadata": {},
   "outputs": [
    {
     "name": "stdout",
     "output_type": "stream",
     "text": [
      "M(x) = -2\n",
      "D(x) = 16\n",
      "Standard dev = 4.0\n"
     ]
    }
   ],
   "source": [
    "#Задание 3\n",
    "\n",
    "#f(x) = (1 / (4 * sqrt(2*pi))) * (exp(-((x+2)**2) / 32))\n",
    "#Из формулы f(x) = (1 / (s * sqrt(2*pi))) * (exp(-((x - 2)**2) / 2 * s**2)) следует:\n",
    "\n",
    "M = -2\n",
    "D = 16\n",
    "s = sqrt(D)\n",
    "print('M(x) =', M)\n",
    "print('D(x) =', D)\n",
    "print('Standard dev =', s)"
   ]
  },
  {
   "cell_type": "code",
   "execution_count": null,
   "metadata": {},
   "outputs": [],
   "source": []
  }
 ],
 "metadata": {
  "kernelspec": {
   "display_name": "Python 3",
   "language": "python",
   "name": "python3"
  },
  "language_info": {
   "codemirror_mode": {
    "name": "ipython",
    "version": 3
   },
   "file_extension": ".py",
   "mimetype": "text/x-python",
   "name": "python",
   "nbconvert_exporter": "python",
   "pygments_lexer": "ipython3",
   "version": "3.8.5"
  }
 },
 "nbformat": 4,
 "nbformat_minor": 4
}

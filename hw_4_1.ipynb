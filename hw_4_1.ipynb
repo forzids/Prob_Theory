{
 "cells": [
  {
   "cell_type": "code",
   "execution_count": 5,
   "metadata": {},
   "outputs": [],
   "source": [
    "from math import exp, sqrt"
   ]
  },
  {
   "cell_type": "code",
   "execution_count": 1,
   "metadata": {},
   "outputs": [
    {
     "name": "stdout",
     "output_type": "stream",
     "text": [
      "M(x) = 500.0\n",
      "D(x) = 30000.0\n"
     ]
    }
   ],
   "source": [
    "#Задание 1\n",
    "\n",
    "a = 200\n",
    "b = 800\n",
    "\n",
    "M = (a + b) / 2\n",
    "D = ((b - a)**2) / 12\n",
    "\n",
    "print('M(x) =', M)\n",
    "print('D(x) =', D)"
   ]
  },
  {
   "cell_type": "code",
   "execution_count": 15,
   "metadata": {},
   "outputs": [
    {
     "name": "stdout",
     "output_type": "stream",
     "text": [
      "a1 = -1.0491933384829668\n",
      "a2 = 2.049193338482967\n"
     ]
    }
   ],
   "source": [
    "#Задание 2\n",
    "\n",
    "#D(x) = ((b - a)**2) / 12\n",
    "b = 0.5\n",
    "D = 0.2\n",
    "\n",
    "a1 = b - sqrt(12*D)\n",
    "a2 = b + sqrt(12*D)\n",
    "\n",
    "print('a1 =',a1)\n",
    "print('a2 =',a2)"
   ]
  },
  {
   "cell_type": "code",
   "execution_count": 16,
   "metadata": {},
   "outputs": [
    {
     "name": "stdout",
     "output_type": "stream",
     "text": [
      "M(x) = -2\n",
      "D(x) = 16\n",
      "Standard dev = 4.0\n"
     ]
    }
   ],
   "source": [
    "#Задание 3\n",
    "\n",
    "#f(x) = (1 / (4 * sqrt(2*pi))) * (exp(-((x+2)**2) / 32))\n",
    "#Из формулы f(x) = (1 / (s * sqrt(2*pi))) * (exp(-((x - 2)**2) / 2 * s**2)) следует:\n",
    "\n",
    "M = -2\n",
    "D = 16\n",
    "s = sqrt(D)\n",
    "print('M(x) =', M)\n",
    "print('D(x) =', D)\n",
    "print('Standard dev =', s)"
   ]
  },
  {
   "cell_type": "code",
   "execution_count": 3,
   "metadata": {},
   "outputs": [
    {
     "name": "stdout",
     "output_type": "stream",
     "text": [
      "a = 15.9\n",
      "б = 2.3\n",
      "в = 81.8\n",
      "г = 68.2\n",
      "д = 95.4\n",
      "е = 2.4499999999999997\n",
      "ё = 0.3\n",
      "ж = 15.899999999999999\n"
     ]
    }
   ],
   "source": [
    "#Задание 4\n",
    "\n",
    "#a\n",
    "\n",
    "a = 13.6 + 2.15 + 0.15\n",
    "print('a =', a)\n",
    "\n",
    "#б\n",
    "\n",
    "b = 2.15 + 0.15\n",
    "print('б =', b)\n",
    "\n",
    "#в\n",
    "\n",
    "c = 34.1 + 34.1 + 13.6\n",
    "print('в =', c)\n",
    "\n",
    "#г\n",
    "\n",
    "d = 68.2\n",
    "print('г =', d)\n",
    "\n",
    "#д\n",
    "\n",
    "e = 95.4\n",
    "print('д =', e)\n",
    "\n",
    "#е\n",
    "\n",
    "f = 0.15 + 2.15 + 0.15\n",
    "print('е =', f)\n",
    "\n",
    "#ё\n",
    "\n",
    "g = 0.15 + 0.15\n",
    "print('ё =', g)\n",
    "\n",
    "#ж\n",
    "\n",
    "h = 0.15 + 2.15 + 13.6\n",
    "print('ж =', h)\n",
    "\n",
    "\n"
   ]
  },
  {
   "cell_type": "code",
   "execution_count": 7,
   "metadata": {},
   "outputs": [
    {
     "name": "stdout",
     "output_type": "stream",
     "text": [
      "a = 2.4\n"
     ]
    }
   ],
   "source": [
    "#Задание 5\n",
    "\n",
    "D = 25\n",
    "std = sqrt(D)\n",
    "\n",
    "a = (190 - 178) / std\n",
    "\n",
    "print('a =', a)\n"
   ]
  },
  {
   "cell_type": "code",
   "execution_count": null,
   "metadata": {},
   "outputs": [],
   "source": []
  }
 ],
 "metadata": {
  "kernelspec": {
   "display_name": "Python 3",
   "language": "python",
   "name": "python3"
  },
  "language_info": {
   "codemirror_mode": {
    "name": "ipython",
    "version": 3
   },
   "file_extension": ".py",
   "mimetype": "text/x-python",
   "name": "python",
   "nbconvert_exporter": "python",
   "pygments_lexer": "ipython3",
   "version": "3.8.5"
  }
 },
 "nbformat": 4,
 "nbformat_minor": 4
}

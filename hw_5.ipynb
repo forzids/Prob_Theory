{
 "cells": [
  {
   "cell_type": "code",
   "execution_count": 1,
   "metadata": {},
   "outputs": [],
   "source": [
    "from math import sqrt\n",
    "import numpy as np"
   ]
  },
  {
   "cell_type": "code",
   "execution_count": 2,
   "metadata": {},
   "outputs": [
    {
     "data": {
      "text/plain": [
       "[81.96, 78.04]"
      ]
     },
     "execution_count": 2,
     "metadata": {},
     "output_type": "execute_result"
    }
   ],
   "source": [
    "#Задание 1\n",
    "\n",
    "z = 1.96\n",
    "x = 80\n",
    "std = 16\n",
    "n = 256\n",
    "\n",
    "se = std / sqrt(n)\n",
    "a = x + (z * se)\n",
    "b = x - (z * se)\n",
    "\n",
    "[a , b]"
   ]
  },
  {
   "cell_type": "code",
   "execution_count": 3,
   "metadata": {},
   "outputs": [
    {
     "data": {
      "text/plain": [
       "[6.912461744087575, 6.267538255912426]"
      ]
     },
     "execution_count": 3,
     "metadata": {},
     "output_type": "execute_result"
    }
   ],
   "source": [
    "#Задание 2\n",
    "\n",
    "a = [6.9, 6.1, 6.2, 6.8, 7.5, 6.3, 6.4, 6.9, 6.7, 6.1]\n",
    "x = np.mean(a)\n",
    "std = np.std(a, ddof=1)\n",
    "n = len(a)\n",
    "t = 2.262\n",
    "se = std / sqrt(n)\n",
    "a = x + (t * se)\n",
    "b = x - (t * se)\n",
    "[a , b]"
   ]
  },
  {
   "cell_type": "code",
   "execution_count": 4,
   "metadata": {},
   "outputs": [
    {
     "name": "stdout",
     "output_type": "stream",
     "text": [
      "H1 is true\n"
     ]
    }
   ],
   "source": [
    "#Задание 3\n",
    "\n",
    "#H0: m = 17 x = 17\n",
    "#H1: m = 17 x > m = 17.5\n",
    "x = 17.5\n",
    "m = 17\n",
    "n = 100\n",
    "d = 4\n",
    "std = sqrt(d)\n",
    "zt = 1.645\n",
    "zc = (x - m)/(std / sqrt(n))\n",
    "if zt > zc:\n",
    "    print('H0 is true')\n",
    "else: print('H1 is true')"
   ]
  },
  {
   "cell_type": "code",
   "execution_count": 5,
   "metadata": {},
   "outputs": [
    {
     "name": "stdout",
     "output_type": "stream",
     "text": [
      "H0 is true\n"
     ]
    }
   ],
   "source": [
    "#Задание 4\n",
    "\n",
    "#H0: m = 200\n",
    "#H1: x!=m\n",
    "a = [202, 203, 199, 197, 195, 201, 200, 204, 194, 190]\n",
    "x = np.mean(a)\n",
    "std = np.std(a, ddof=1)\n",
    "m = 200\n",
    "n = 10\n",
    "tt = 4.297\n",
    "tc = (x - m) / (std / sqrt(n))\n",
    "if abs(tc) < tt:\n",
    "    print('H0 is true')\n",
    "else: print('H1 is true')"
   ]
  },
  {
   "cell_type": "code",
   "execution_count": null,
   "metadata": {},
   "outputs": [],
   "source": []
  }
 ],
 "metadata": {
  "kernelspec": {
   "display_name": "Python 3",
   "language": "python",
   "name": "python3"
  },
  "language_info": {
   "codemirror_mode": {
    "name": "ipython",
    "version": 3
   },
   "file_extension": ".py",
   "mimetype": "text/x-python",
   "name": "python",
   "nbconvert_exporter": "python",
   "pygments_lexer": "ipython3",
   "version": "3.8.5"
  }
 },
 "nbformat": 4,
 "nbformat_minor": 4
}

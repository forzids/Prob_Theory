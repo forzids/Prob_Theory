{
 "cells": [
  {
   "cell_type": "code",
   "execution_count": 3,
   "metadata": {},
   "outputs": [],
   "source": [
    "from math import factorial, exp"
   ]
  },
  {
   "cell_type": "code",
   "execution_count": 2,
   "metadata": {},
   "outputs": [
    {
     "name": "stdout",
     "output_type": "stream",
     "text": [
      "0.048061793700746355\n",
      "4.8%\n"
     ]
    }
   ],
   "source": [
    "#Задание 1\n",
    "\n",
    "p = 0.8\n",
    "k = 85\n",
    "n = 100\n",
    "\n",
    "#Сочетание из n по k\n",
    "\n",
    "def combinations(n, k):\n",
    "    return int(factorial(n) / (factorial(k) * factorial(n - k)))\n",
    "\n",
    "A = combinations(100, 85)\n",
    "\n",
    "#Формула Бернулли\n",
    "\n",
    "B = A * p**k * (1-p)**(n-k)\n",
    "print(B)\n",
    "print(\"{0:.1f}%\".format(B * 100))"
   ]
  },
  {
   "cell_type": "code",
   "execution_count": 4,
   "metadata": {},
   "outputs": [
    {
     "name": "stdout",
     "output_type": "stream",
     "text": [
      "0.1353352832366127\n",
      "13.5%\n"
     ]
    }
   ],
   "source": [
    "#Задание 2_a\n",
    "\n",
    "p = 0.0004\n",
    "m = 0\n",
    "n = 5000\n",
    "\n",
    "#Формула Пуассона\n",
    "\n",
    "B = (((p*n)**m)/factorial(m))*exp(-(p*n))\n",
    "print(B)\n",
    "print(\"{0:.1f}%\".format(B * 100))"
   ]
  },
  {
   "cell_type": "code",
   "execution_count": 5,
   "metadata": {},
   "outputs": [
    {
     "name": "stdout",
     "output_type": "stream",
     "text": [
      "0.2706705664732254\n",
      "27.1%\n"
     ]
    }
   ],
   "source": [
    "#Задание 2_b\n",
    "\n",
    "p = 0.0004\n",
    "m = 2\n",
    "n = 5000\n",
    "\n",
    "#Формула Пуассона\n",
    "\n",
    "B = (((p*n)**m)/factorial(m))*exp(-(p*n))\n",
    "print(B)\n",
    "print(\"{0:.1f}%\".format(B * 100))"
   ]
  },
  {
   "cell_type": "code",
   "execution_count": 6,
   "metadata": {},
   "outputs": [
    {
     "name": "stdout",
     "output_type": "stream",
     "text": [
      "0.006370449873349755\n",
      "0.6%\n"
     ]
    }
   ],
   "source": [
    "#Задание 3\n",
    "\n",
    "p = 0.5\n",
    "k = 70\n",
    "n = 144\n",
    "\n",
    "#Сочетание из n по k\n",
    "\n",
    "def combinations(n, k):\n",
    "    return int(factorial(n) / (factorial(k) * factorial(n - k)))\n",
    "\n",
    "A = combinations(144, 85)\n",
    "\n",
    "#Формула Бернулли\n",
    "\n",
    "B = A * p**k * (1-p)**(n-k)\n",
    "print(B)\n",
    "print(\"{0:.1f}%\".format(B * 100))"
   ]
  },
  {
   "cell_type": "code",
   "execution_count": 7,
   "metadata": {},
   "outputs": [
    {
     "name": "stdout",
     "output_type": "stream",
     "text": [
      "0.3054545454545455\n",
      "30.5%\n"
     ]
    }
   ],
   "source": [
    "#Задание 4_a\n",
    "\n",
    "#1 ящик - 10 мячей, 7 белых, 3 не белых\n",
    "#2 ящик - 11 мячей, 9 белых, 2 не белых\n",
    "\n",
    "p1 = (7/10) * (6/9)\n",
    "p2 = (9/11) * (8/10)\n",
    "p = p1 * p2\n",
    "print(p)\n",
    "print(\"{0:.1f}%\".format(p * 100))"
   ]
  },
  {
   "cell_type": "code",
   "execution_count": 8,
   "metadata": {},
   "outputs": [
    {
     "name": "stdout",
     "output_type": "stream",
     "text": [
      "0.12303030303030303\n",
      "12.3%\n"
     ]
    }
   ],
   "source": [
    "#Задание 4_b\n",
    "\n",
    "#1 ящик - 10 мячей, 7 белых, 3 не белых\n",
    "#2 ящик - 11 мячей, 9 белых, 2 не белых\n",
    "\n",
    "p1 = (7/10) * (6/9) * (2/11) * (1/10)\n",
    "p2 = (7/10) * (3/9) * (9/11) * (2/10)\n",
    "p3 = (3/10) * (6/9) * (2/11) * (9/10)\n",
    "p4 = (3/10) * (2/9) * (9/11) * (8/10)\n",
    "p = p1 + p2 + p3 + p4\n",
    "print(p)\n",
    "print(\"{0:.1f}%\".format(p * 100))"
   ]
  },
  {
   "cell_type": "code",
   "execution_count": 9,
   "metadata": {},
   "outputs": [
    {
     "name": "stdout",
     "output_type": "stream",
     "text": [
      "0.9987878787878788\n",
      "99.9%\n"
     ]
    }
   ],
   "source": [
    "#Задание 4_c\n",
    "\n",
    "#1 ящик - 10 мячей, 7 белых, 3 не белых\n",
    "#2 ящик - 11 мячей, 9 белых, 2 не белых\n",
    "\n",
    "#Вычислим вероятность что вытащили все не белые мячи\n",
    "p1 = (3/10) * (2/9)\n",
    "p2 = (2/11) * (1/10)\n",
    "\n",
    "p = p1 * p2\n",
    "\n",
    "#Вероятность того что вытащили хотя бы 1 белый\n",
    "\n",
    "a = 1 - p\n",
    "print(a)\n",
    "print(\"{0:.1f}%\".format(a * 100))"
   ]
  },
  {
   "cell_type": "code",
   "execution_count": null,
   "metadata": {},
   "outputs": [],
   "source": []
  }
 ],
 "metadata": {
  "kernelspec": {
   "display_name": "Python 3",
   "language": "python",
   "name": "python3"
  },
  "language_info": {
   "codemirror_mode": {
    "name": "ipython",
    "version": 3
   },
   "file_extension": ".py",
   "mimetype": "text/x-python",
   "name": "python",
   "nbconvert_exporter": "python",
   "pygments_lexer": "ipython3",
   "version": "3.8.5"
  }
 },
 "nbformat": 4,
 "nbformat_minor": 4
}
